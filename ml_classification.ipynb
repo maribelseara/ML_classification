{
 "cells": [
  {
   "cell_type": "markdown",
   "metadata": {},
   "source": [
    "# Tasca M7 T01"
   ]
  },
  {
   "cell_type": "code",
   "execution_count": 1,
   "metadata": {},
   "outputs": [],
   "source": [
    "import pandas as pd\n",
    "import numpy as np\n",
    "import seaborn as sns\n",
    "import matplotlib.pyplot as plt\n",
    "from sklearn.model_selection import train_test_split\n",
    "from sklearn import svm\n",
    "from sklearn.tree import DecisionTreeClassifier\n"
   ]
  },
  {
   "cell_type": "markdown",
   "metadata": {},
   "source": [
    "Según el archivo wineNames.txt las columnas del dataset son las siguientes:\n",
    "\n",
    " \t1) Alcohol\n",
    " \t2) Malic acid\n",
    " \t3) Ash\n",
    "\t4) Alcalinity of ash  \n",
    " \t5) Magnesium\n",
    "\t6) Total phenols\n",
    " \t7) Flavanoids\n",
    " \t8) Nonflavanoid phenols\n",
    " \t9) Proanthocyanins\n",
    "\t10)Color intensity\n",
    " \t11)Hue\n",
    " \t12)OD280/OD315 of diluted wines\n",
    " \t13)Proline     "
   ]
  },
  {
   "cell_type": "markdown",
   "metadata": {},
   "source": [
    "Se lee el archivo de datos y se etiqueta con las columnas con nombres abreviados para facilitar el trabajo."
   ]
  },
  {
   "cell_type": "code",
   "execution_count": 2,
   "metadata": {},
   "outputs": [
    {
     "data": {
      "text/html": [
       "<div>\n",
       "<style scoped>\n",
       "    .dataframe tbody tr th:only-of-type {\n",
       "        vertical-align: middle;\n",
       "    }\n",
       "\n",
       "    .dataframe tbody tr th {\n",
       "        vertical-align: top;\n",
       "    }\n",
       "\n",
       "    .dataframe thead th {\n",
       "        text-align: right;\n",
       "    }\n",
       "</style>\n",
       "<table border=\"1\" class=\"dataframe\">\n",
       "  <thead>\n",
       "    <tr style=\"text-align: right;\">\n",
       "      <th></th>\n",
       "      <th>Class</th>\n",
       "      <th>Alcohol</th>\n",
       "      <th>Malic a.</th>\n",
       "      <th>Ash</th>\n",
       "      <th>Alc. of ash</th>\n",
       "      <th>Magnesium</th>\n",
       "      <th>Total phenols</th>\n",
       "      <th>Flavanoids</th>\n",
       "      <th>Nonfl. phenols</th>\n",
       "      <th>Proanthocyanins</th>\n",
       "      <th>Col. intensity</th>\n",
       "      <th>Hue</th>\n",
       "      <th>OD</th>\n",
       "      <th>Proline</th>\n",
       "    </tr>\n",
       "  </thead>\n",
       "  <tbody>\n",
       "    <tr>\n",
       "      <th>0</th>\n",
       "      <td>1</td>\n",
       "      <td>14.23</td>\n",
       "      <td>1.71</td>\n",
       "      <td>2.43</td>\n",
       "      <td>15.6</td>\n",
       "      <td>127</td>\n",
       "      <td>2.80</td>\n",
       "      <td>3.06</td>\n",
       "      <td>0.28</td>\n",
       "      <td>2.29</td>\n",
       "      <td>5.64</td>\n",
       "      <td>1.04</td>\n",
       "      <td>3.92</td>\n",
       "      <td>1065</td>\n",
       "    </tr>\n",
       "    <tr>\n",
       "      <th>1</th>\n",
       "      <td>1</td>\n",
       "      <td>13.20</td>\n",
       "      <td>1.78</td>\n",
       "      <td>2.14</td>\n",
       "      <td>11.2</td>\n",
       "      <td>100</td>\n",
       "      <td>2.65</td>\n",
       "      <td>2.76</td>\n",
       "      <td>0.26</td>\n",
       "      <td>1.28</td>\n",
       "      <td>4.38</td>\n",
       "      <td>1.05</td>\n",
       "      <td>3.40</td>\n",
       "      <td>1050</td>\n",
       "    </tr>\n",
       "    <tr>\n",
       "      <th>2</th>\n",
       "      <td>1</td>\n",
       "      <td>13.16</td>\n",
       "      <td>2.36</td>\n",
       "      <td>2.67</td>\n",
       "      <td>18.6</td>\n",
       "      <td>101</td>\n",
       "      <td>2.80</td>\n",
       "      <td>3.24</td>\n",
       "      <td>0.30</td>\n",
       "      <td>2.81</td>\n",
       "      <td>5.68</td>\n",
       "      <td>1.03</td>\n",
       "      <td>3.17</td>\n",
       "      <td>1185</td>\n",
       "    </tr>\n",
       "    <tr>\n",
       "      <th>3</th>\n",
       "      <td>1</td>\n",
       "      <td>14.37</td>\n",
       "      <td>1.95</td>\n",
       "      <td>2.50</td>\n",
       "      <td>16.8</td>\n",
       "      <td>113</td>\n",
       "      <td>3.85</td>\n",
       "      <td>3.49</td>\n",
       "      <td>0.24</td>\n",
       "      <td>2.18</td>\n",
       "      <td>7.80</td>\n",
       "      <td>0.86</td>\n",
       "      <td>3.45</td>\n",
       "      <td>1480</td>\n",
       "    </tr>\n",
       "    <tr>\n",
       "      <th>4</th>\n",
       "      <td>1</td>\n",
       "      <td>13.24</td>\n",
       "      <td>2.59</td>\n",
       "      <td>2.87</td>\n",
       "      <td>21.0</td>\n",
       "      <td>118</td>\n",
       "      <td>2.80</td>\n",
       "      <td>2.69</td>\n",
       "      <td>0.39</td>\n",
       "      <td>1.82</td>\n",
       "      <td>4.32</td>\n",
       "      <td>1.04</td>\n",
       "      <td>2.93</td>\n",
       "      <td>735</td>\n",
       "    </tr>\n",
       "  </tbody>\n",
       "</table>\n",
       "</div>"
      ],
      "text/plain": [
       "   Class  Alcohol  Malic a.   Ash  Alc. of ash  Magnesium  Total phenols  \\\n",
       "0      1    14.23      1.71  2.43         15.6        127           2.80   \n",
       "1      1    13.20      1.78  2.14         11.2        100           2.65   \n",
       "2      1    13.16      2.36  2.67         18.6        101           2.80   \n",
       "3      1    14.37      1.95  2.50         16.8        113           3.85   \n",
       "4      1    13.24      2.59  2.87         21.0        118           2.80   \n",
       "\n",
       "   Flavanoids  Nonfl. phenols  Proanthocyanins  Col. intensity   Hue    OD  \\\n",
       "0        3.06            0.28             2.29            5.64  1.04  3.92   \n",
       "1        2.76            0.26             1.28            4.38  1.05  3.40   \n",
       "2        3.24            0.30             2.81            5.68  1.03  3.17   \n",
       "3        3.49            0.24             2.18            7.80  0.86  3.45   \n",
       "4        2.69            0.39             1.82            4.32  1.04  2.93   \n",
       "\n",
       "   Proline  \n",
       "0     1065  \n",
       "1     1050  \n",
       "2     1185  \n",
       "3     1480  \n",
       "4      735  "
      ]
     },
     "execution_count": 2,
     "metadata": {},
     "output_type": "execute_result"
    }
   ],
   "source": [
    "cols=['Class', 'Alcohol', 'Malic a.', 'Ash', 'Alc. of ash', 'Magnesium', 'Total phenols', 'Flavanoids', 'Nonfl. phenols', 'Proanthocyanins', 'Col. intensity', 'Hue', 'OD', 'Proline']\n",
    "df=pd.read_csv(\"wineData.txt\", names=cols)\n",
    "df.head()"
   ]
  },
  {
   "cell_type": "markdown",
   "metadata": {},
   "source": [
    "Antes de empezar a analizar separaremos los datos de text para que no se nos filtre nada durante el análisis. Empezaremos por separar el target de las variables independientes."
   ]
  },
  {
   "cell_type": "code",
   "execution_count": 3,
   "metadata": {},
   "outputs": [],
   "source": [
    "X=df.drop('Class', axis=1)\n",
    "y=df['Class']\n",
    "X_train, X_test, y_train, y_test = train_test_split(X, y, test_size=0.25, random_state=101)"
   ]
  },
  {
   "cell_type": "markdown",
   "metadata": {},
   "source": [
    "Ahora que ya están los datos de test separados empezaremos con el análisis de los datos de train"
   ]
  },
  {
   "cell_type": "code",
   "execution_count": 4,
   "metadata": {},
   "outputs": [
    {
     "data": {
      "text/html": [
       "<div>\n",
       "<style scoped>\n",
       "    .dataframe tbody tr th:only-of-type {\n",
       "        vertical-align: middle;\n",
       "    }\n",
       "\n",
       "    .dataframe tbody tr th {\n",
       "        vertical-align: top;\n",
       "    }\n",
       "\n",
       "    .dataframe thead th {\n",
       "        text-align: right;\n",
       "    }\n",
       "</style>\n",
       "<table border=\"1\" class=\"dataframe\">\n",
       "  <thead>\n",
       "    <tr style=\"text-align: right;\">\n",
       "      <th></th>\n",
       "      <th>Alcohol</th>\n",
       "      <th>Malic a.</th>\n",
       "      <th>Ash</th>\n",
       "      <th>Alc. of ash</th>\n",
       "      <th>Magnesium</th>\n",
       "      <th>Total phenols</th>\n",
       "      <th>Flavanoids</th>\n",
       "      <th>Nonfl. phenols</th>\n",
       "      <th>Proanthocyanins</th>\n",
       "      <th>Col. intensity</th>\n",
       "      <th>Hue</th>\n",
       "      <th>OD</th>\n",
       "      <th>Proline</th>\n",
       "    </tr>\n",
       "  </thead>\n",
       "  <tbody>\n",
       "    <tr>\n",
       "      <th>94</th>\n",
       "      <td>11.62</td>\n",
       "      <td>1.99</td>\n",
       "      <td>2.28</td>\n",
       "      <td>18.0</td>\n",
       "      <td>98</td>\n",
       "      <td>3.02</td>\n",
       "      <td>2.26</td>\n",
       "      <td>0.17</td>\n",
       "      <td>1.35</td>\n",
       "      <td>3.25</td>\n",
       "      <td>1.16</td>\n",
       "      <td>2.96</td>\n",
       "      <td>345</td>\n",
       "    </tr>\n",
       "    <tr>\n",
       "      <th>80</th>\n",
       "      <td>12.00</td>\n",
       "      <td>0.92</td>\n",
       "      <td>2.00</td>\n",
       "      <td>19.0</td>\n",
       "      <td>86</td>\n",
       "      <td>2.42</td>\n",
       "      <td>2.26</td>\n",
       "      <td>0.30</td>\n",
       "      <td>1.43</td>\n",
       "      <td>2.50</td>\n",
       "      <td>1.38</td>\n",
       "      <td>3.12</td>\n",
       "      <td>278</td>\n",
       "    </tr>\n",
       "    <tr>\n",
       "      <th>131</th>\n",
       "      <td>12.88</td>\n",
       "      <td>2.99</td>\n",
       "      <td>2.40</td>\n",
       "      <td>20.0</td>\n",
       "      <td>104</td>\n",
       "      <td>1.30</td>\n",
       "      <td>1.22</td>\n",
       "      <td>0.24</td>\n",
       "      <td>0.83</td>\n",
       "      <td>5.40</td>\n",
       "      <td>0.74</td>\n",
       "      <td>1.42</td>\n",
       "      <td>530</td>\n",
       "    </tr>\n",
       "    <tr>\n",
       "      <th>149</th>\n",
       "      <td>13.08</td>\n",
       "      <td>3.90</td>\n",
       "      <td>2.36</td>\n",
       "      <td>21.5</td>\n",
       "      <td>113</td>\n",
       "      <td>1.41</td>\n",
       "      <td>1.39</td>\n",
       "      <td>0.34</td>\n",
       "      <td>1.14</td>\n",
       "      <td>9.40</td>\n",
       "      <td>0.57</td>\n",
       "      <td>1.33</td>\n",
       "      <td>550</td>\n",
       "    </tr>\n",
       "    <tr>\n",
       "      <th>121</th>\n",
       "      <td>11.56</td>\n",
       "      <td>2.05</td>\n",
       "      <td>3.23</td>\n",
       "      <td>28.5</td>\n",
       "      <td>119</td>\n",
       "      <td>3.18</td>\n",
       "      <td>5.08</td>\n",
       "      <td>0.47</td>\n",
       "      <td>1.87</td>\n",
       "      <td>6.00</td>\n",
       "      <td>0.93</td>\n",
       "      <td>3.69</td>\n",
       "      <td>465</td>\n",
       "    </tr>\n",
       "  </tbody>\n",
       "</table>\n",
       "</div>"
      ],
      "text/plain": [
       "     Alcohol  Malic a.   Ash  Alc. of ash  Magnesium  Total phenols  \\\n",
       "94     11.62      1.99  2.28         18.0         98           3.02   \n",
       "80     12.00      0.92  2.00         19.0         86           2.42   \n",
       "131    12.88      2.99  2.40         20.0        104           1.30   \n",
       "149    13.08      3.90  2.36         21.5        113           1.41   \n",
       "121    11.56      2.05  3.23         28.5        119           3.18   \n",
       "\n",
       "     Flavanoids  Nonfl. phenols  Proanthocyanins  Col. intensity   Hue    OD  \\\n",
       "94         2.26            0.17             1.35            3.25  1.16  2.96   \n",
       "80         2.26            0.30             1.43            2.50  1.38  3.12   \n",
       "131        1.22            0.24             0.83            5.40  0.74  1.42   \n",
       "149        1.39            0.34             1.14            9.40  0.57  1.33   \n",
       "121        5.08            0.47             1.87            6.00  0.93  3.69   \n",
       "\n",
       "     Proline  \n",
       "94       345  \n",
       "80       278  \n",
       "131      530  \n",
       "149      550  \n",
       "121      465  "
      ]
     },
     "execution_count": 4,
     "metadata": {},
     "output_type": "execute_result"
    }
   ],
   "source": [
    "#Sacamos el target de la lista de columnas\n",
    "cols.pop(0)\n",
    "df_train=pd.DataFrame(X_train, columns=cols)\n",
    "df_train.head(5)"
   ]
  },
  {
   "cell_type": "code",
   "execution_count": 5,
   "metadata": {},
   "outputs": [
    {
     "data": {
      "text/plain": [
       "Alcohol            0\n",
       "Malic a.           0\n",
       "Ash                0\n",
       "Alc. of ash        0\n",
       "Magnesium          0\n",
       "Total phenols      0\n",
       "Flavanoids         0\n",
       "Nonfl. phenols     0\n",
       "Proanthocyanins    0\n",
       "Col. intensity     0\n",
       "Hue                0\n",
       "OD                 0\n",
       "Proline            0\n",
       "dtype: int64"
      ]
     },
     "execution_count": 5,
     "metadata": {},
     "output_type": "execute_result"
    }
   ],
   "source": [
    "df_train.isna().sum()"
   ]
  },
  {
   "cell_type": "code",
   "execution_count": 6,
   "metadata": {},
   "outputs": [
    {
     "data": {
      "text/plain": [
       "Alcohol            0\n",
       "Malic a.           0\n",
       "Ash                0\n",
       "Alc. of ash        0\n",
       "Magnesium          0\n",
       "Total phenols      0\n",
       "Flavanoids         0\n",
       "Nonfl. phenols     0\n",
       "Proanthocyanins    0\n",
       "Col. intensity     0\n",
       "Hue                0\n",
       "OD                 0\n",
       "Proline            0\n",
       "dtype: int64"
      ]
     },
     "execution_count": 6,
     "metadata": {},
     "output_type": "execute_result"
    }
   ],
   "source": [
    "df_train.isnull().sum()"
   ]
  },
  {
   "cell_type": "markdown",
   "metadata": {},
   "source": [
    "Vemos que no hay ningún valor Null ni NaN, así que no se requiere limpiar los mismos."
   ]
  },
  {
   "cell_type": "code",
   "execution_count": 7,
   "metadata": {},
   "outputs": [
    {
     "data": {
      "text/html": [
       "<div>\n",
       "<style scoped>\n",
       "    .dataframe tbody tr th:only-of-type {\n",
       "        vertical-align: middle;\n",
       "    }\n",
       "\n",
       "    .dataframe tbody tr th {\n",
       "        vertical-align: top;\n",
       "    }\n",
       "\n",
       "    .dataframe thead th {\n",
       "        text-align: right;\n",
       "    }\n",
       "</style>\n",
       "<table border=\"1\" class=\"dataframe\">\n",
       "  <thead>\n",
       "    <tr style=\"text-align: right;\">\n",
       "      <th></th>\n",
       "      <th>Alcohol</th>\n",
       "      <th>Malic a.</th>\n",
       "      <th>Ash</th>\n",
       "      <th>Alc. of ash</th>\n",
       "      <th>Magnesium</th>\n",
       "      <th>Total phenols</th>\n",
       "      <th>Flavanoids</th>\n",
       "      <th>Nonfl. phenols</th>\n",
       "      <th>Proanthocyanins</th>\n",
       "      <th>Col. intensity</th>\n",
       "      <th>Hue</th>\n",
       "      <th>OD</th>\n",
       "      <th>Proline</th>\n",
       "    </tr>\n",
       "  </thead>\n",
       "  <tbody>\n",
       "    <tr>\n",
       "      <th>count</th>\n",
       "      <td>133.000000</td>\n",
       "      <td>133.000000</td>\n",
       "      <td>133.000000</td>\n",
       "      <td>133.000000</td>\n",
       "      <td>133.000000</td>\n",
       "      <td>133.000000</td>\n",
       "      <td>133.000000</td>\n",
       "      <td>133.000000</td>\n",
       "      <td>133.000000</td>\n",
       "      <td>133.000000</td>\n",
       "      <td>133.000000</td>\n",
       "      <td>133.000000</td>\n",
       "      <td>133.000000</td>\n",
       "    </tr>\n",
       "    <tr>\n",
       "      <th>mean</th>\n",
       "      <td>13.006541</td>\n",
       "      <td>2.272556</td>\n",
       "      <td>2.351053</td>\n",
       "      <td>19.512030</td>\n",
       "      <td>99.646617</td>\n",
       "      <td>2.302331</td>\n",
       "      <td>2.028271</td>\n",
       "      <td>0.356617</td>\n",
       "      <td>1.605639</td>\n",
       "      <td>5.062556</td>\n",
       "      <td>0.955308</td>\n",
       "      <td>2.625865</td>\n",
       "      <td>737.857143</td>\n",
       "    </tr>\n",
       "    <tr>\n",
       "      <th>std</th>\n",
       "      <td>0.832253</td>\n",
       "      <td>1.105975</td>\n",
       "      <td>0.267498</td>\n",
       "      <td>3.304016</td>\n",
       "      <td>14.332732</td>\n",
       "      <td>0.645638</td>\n",
       "      <td>1.008595</td>\n",
       "      <td>0.123772</td>\n",
       "      <td>0.595531</td>\n",
       "      <td>2.343858</td>\n",
       "      <td>0.234293</td>\n",
       "      <td>0.742174</td>\n",
       "      <td>316.895264</td>\n",
       "    </tr>\n",
       "    <tr>\n",
       "      <th>min</th>\n",
       "      <td>11.030000</td>\n",
       "      <td>0.740000</td>\n",
       "      <td>1.360000</td>\n",
       "      <td>10.600000</td>\n",
       "      <td>78.000000</td>\n",
       "      <td>1.100000</td>\n",
       "      <td>0.470000</td>\n",
       "      <td>0.130000</td>\n",
       "      <td>0.410000</td>\n",
       "      <td>1.900000</td>\n",
       "      <td>0.540000</td>\n",
       "      <td>1.270000</td>\n",
       "      <td>278.000000</td>\n",
       "    </tr>\n",
       "    <tr>\n",
       "      <th>25%</th>\n",
       "      <td>12.360000</td>\n",
       "      <td>1.570000</td>\n",
       "      <td>2.210000</td>\n",
       "      <td>17.000000</td>\n",
       "      <td>88.000000</td>\n",
       "      <td>1.700000</td>\n",
       "      <td>1.200000</td>\n",
       "      <td>0.260000</td>\n",
       "      <td>1.220000</td>\n",
       "      <td>3.080000</td>\n",
       "      <td>0.760000</td>\n",
       "      <td>1.830000</td>\n",
       "      <td>495.000000</td>\n",
       "    </tr>\n",
       "    <tr>\n",
       "      <th>50%</th>\n",
       "      <td>12.990000</td>\n",
       "      <td>1.770000</td>\n",
       "      <td>2.350000</td>\n",
       "      <td>19.500000</td>\n",
       "      <td>97.000000</td>\n",
       "      <td>2.400000</td>\n",
       "      <td>2.090000</td>\n",
       "      <td>0.320000</td>\n",
       "      <td>1.560000</td>\n",
       "      <td>4.800000</td>\n",
       "      <td>0.960000</td>\n",
       "      <td>2.780000</td>\n",
       "      <td>660.000000</td>\n",
       "    </tr>\n",
       "    <tr>\n",
       "      <th>75%</th>\n",
       "      <td>13.710000</td>\n",
       "      <td>2.990000</td>\n",
       "      <td>2.500000</td>\n",
       "      <td>21.500000</td>\n",
       "      <td>107.000000</td>\n",
       "      <td>2.830000</td>\n",
       "      <td>2.890000</td>\n",
       "      <td>0.430000</td>\n",
       "      <td>1.980000</td>\n",
       "      <td>6.250000</td>\n",
       "      <td>1.120000</td>\n",
       "      <td>3.210000</td>\n",
       "      <td>937.000000</td>\n",
       "    </tr>\n",
       "    <tr>\n",
       "      <th>max</th>\n",
       "      <td>14.830000</td>\n",
       "      <td>5.800000</td>\n",
       "      <td>3.230000</td>\n",
       "      <td>30.000000</td>\n",
       "      <td>162.000000</td>\n",
       "      <td>3.880000</td>\n",
       "      <td>5.080000</td>\n",
       "      <td>0.660000</td>\n",
       "      <td>3.580000</td>\n",
       "      <td>13.000000</td>\n",
       "      <td>1.710000</td>\n",
       "      <td>4.000000</td>\n",
       "      <td>1680.000000</td>\n",
       "    </tr>\n",
       "  </tbody>\n",
       "</table>\n",
       "</div>"
      ],
      "text/plain": [
       "          Alcohol    Malic a.         Ash  Alc. of ash   Magnesium  \\\n",
       "count  133.000000  133.000000  133.000000   133.000000  133.000000   \n",
       "mean    13.006541    2.272556    2.351053    19.512030   99.646617   \n",
       "std      0.832253    1.105975    0.267498     3.304016   14.332732   \n",
       "min     11.030000    0.740000    1.360000    10.600000   78.000000   \n",
       "25%     12.360000    1.570000    2.210000    17.000000   88.000000   \n",
       "50%     12.990000    1.770000    2.350000    19.500000   97.000000   \n",
       "75%     13.710000    2.990000    2.500000    21.500000  107.000000   \n",
       "max     14.830000    5.800000    3.230000    30.000000  162.000000   \n",
       "\n",
       "       Total phenols  Flavanoids  Nonfl. phenols  Proanthocyanins  \\\n",
       "count     133.000000  133.000000      133.000000       133.000000   \n",
       "mean        2.302331    2.028271        0.356617         1.605639   \n",
       "std         0.645638    1.008595        0.123772         0.595531   \n",
       "min         1.100000    0.470000        0.130000         0.410000   \n",
       "25%         1.700000    1.200000        0.260000         1.220000   \n",
       "50%         2.400000    2.090000        0.320000         1.560000   \n",
       "75%         2.830000    2.890000        0.430000         1.980000   \n",
       "max         3.880000    5.080000        0.660000         3.580000   \n",
       "\n",
       "       Col. intensity         Hue          OD      Proline  \n",
       "count      133.000000  133.000000  133.000000   133.000000  \n",
       "mean         5.062556    0.955308    2.625865   737.857143  \n",
       "std          2.343858    0.234293    0.742174   316.895264  \n",
       "min          1.900000    0.540000    1.270000   278.000000  \n",
       "25%          3.080000    0.760000    1.830000   495.000000  \n",
       "50%          4.800000    0.960000    2.780000   660.000000  \n",
       "75%          6.250000    1.120000    3.210000   937.000000  \n",
       "max         13.000000    1.710000    4.000000  1680.000000  "
      ]
     },
     "execution_count": 7,
     "metadata": {},
     "output_type": "execute_result"
    }
   ],
   "source": [
    "df_train.describe()"
   ]
  },
  {
   "cell_type": "markdown",
   "metadata": {},
   "source": [
    "Vemos que hay escalas bastante diferentes en las variables. Estando los valores más bajos en la variable 'Nonflavanoid phenols' y los más altos en la variable 'Proline'. Seguramente requieran de una estandarización, pero sigamos analizando primero."
   ]
  },
  {
   "cell_type": "code",
   "execution_count": 8,
   "metadata": {},
   "outputs": [
    {
     "name": "stdout",
     "output_type": "stream",
     "text": [
      "<class 'pandas.core.frame.DataFrame'>\n",
      "Index: 133 entries, 94 to 95\n",
      "Data columns (total 13 columns):\n",
      " #   Column           Non-Null Count  Dtype  \n",
      "---  ------           --------------  -----  \n",
      " 0   Alcohol          133 non-null    float64\n",
      " 1   Malic a.         133 non-null    float64\n",
      " 2   Ash              133 non-null    float64\n",
      " 3   Alc. of ash      133 non-null    float64\n",
      " 4   Magnesium        133 non-null    int64  \n",
      " 5   Total phenols    133 non-null    float64\n",
      " 6   Flavanoids       133 non-null    float64\n",
      " 7   Nonfl. phenols   133 non-null    float64\n",
      " 8   Proanthocyanins  133 non-null    float64\n",
      " 9   Col. intensity   133 non-null    float64\n",
      " 10  Hue              133 non-null    float64\n",
      " 11  OD               133 non-null    float64\n",
      " 12  Proline          133 non-null    int64  \n",
      "dtypes: float64(11), int64(2)\n",
      "memory usage: 14.5 KB\n"
     ]
    }
   ],
   "source": [
    "df_train.info()"
   ]
  },
  {
   "cell_type": "markdown",
   "metadata": {},
   "source": [
    "Vemos que en principio todas las variables son numéricas. Pero comprobemos los valores de las variables enteras para asegurarnos de que no se trate de variables categóricas."
   ]
  },
  {
   "cell_type": "code",
   "execution_count": 9,
   "metadata": {},
   "outputs": [
    {
     "data": {
      "text/plain": [
       "Magnesium\n",
       "88     12\n",
       "86     10\n",
       "96      8\n",
       "101     7\n",
       "98      6\n",
       "102     6\n",
       "85      5\n",
       "94      5\n",
       "108     4\n",
       "89      4\n",
       "107     4\n",
       "97      3\n",
       "112     3\n",
       "90      3\n",
       "95      3\n",
       "111     3\n",
       "84      3\n",
       "80      3\n",
       "116     3\n",
       "110     2\n",
       "118     2\n",
       "113     2\n",
       "87      2\n",
       "104     2\n",
       "106     2\n",
       "91      2\n",
       "103     2\n",
       "127     1\n",
       "100     1\n",
       "115     1\n",
       "124     1\n",
       "139     1\n",
       "123     1\n",
       "121     1\n",
       "117     1\n",
       "105     1\n",
       "92      1\n",
       "126     1\n",
       "93      1\n",
       "120     1\n",
       "119     1\n",
       "122     1\n",
       "151     1\n",
       "99      1\n",
       "78      1\n",
       "81      1\n",
       "136     1\n",
       "82      1\n",
       "162     1\n",
       "Name: count, dtype: int64"
      ]
     },
     "execution_count": 9,
     "metadata": {},
     "output_type": "execute_result"
    }
   ],
   "source": [
    "df_train['Magnesium'].value_counts()"
   ]
  },
  {
   "cell_type": "code",
   "execution_count": 10,
   "metadata": {},
   "outputs": [
    {
     "data": {
      "text/plain": [
       "Proline\n",
       "520     4\n",
       "680     3\n",
       "510     3\n",
       "630     3\n",
       "495     3\n",
       "       ..\n",
       "1510    1\n",
       "920     1\n",
       "385     1\n",
       "770     1\n",
       "937     1\n",
       "Name: count, Length: 97, dtype: int64"
      ]
     },
     "execution_count": 10,
     "metadata": {},
     "output_type": "execute_result"
    }
   ],
   "source": [
    "df_train['Proline'].value_counts()"
   ]
  },
  {
   "cell_type": "markdown",
   "metadata": {},
   "source": [
    "La gran variedad de valores que pueden tomar ambas variables nos demuestra que realmente son variables numéricas y no categóricas, simplemente son atributos que no tienen decimales.\n",
    "\n",
    "A continuación revisaremos la correlación entre las variables."
   ]
  },
  {
   "cell_type": "code",
   "execution_count": 11,
   "metadata": {},
   "outputs": [
    {
     "data": {
      "text/plain": [
       "Alcohol           -0.344310\n",
       "Malic a.           0.441051\n",
       "Ash               -0.034993\n",
       "Alc. of ash        0.514427\n",
       "Magnesium         -0.194111\n",
       "Total phenols     -0.721739\n",
       "Flavanoids        -0.851039\n",
       "Nonfl. phenols     0.479480\n",
       "Proanthocyanins   -0.510716\n",
       "Col. intensity     0.270943\n",
       "Hue               -0.609847\n",
       "OD                -0.805041\n",
       "Proline           -0.614834\n",
       "dtype: float64"
      ]
     },
     "execution_count": 11,
     "metadata": {},
     "output_type": "execute_result"
    }
   ],
   "source": [
    "target_train=pd.DataFrame(y_train)\n",
    "df_train.corrwith(target_train['Class'])"
   ]
  },
  {
   "cell_type": "markdown",
   "metadata": {},
   "source": [
    "Vemos que hay algo de correlación con la mayoría de las variables siendo las más significativas 'Flavanoids', 'OD' y 'Total phenols'. En el otro extremo tenemos la variable 'Ash' con una correlación tan baja que los datos que nos aportaría no compensarían el coste computacional de tener una variable extra. Así que la retiraremos."
   ]
  },
  {
   "cell_type": "code",
   "execution_count": 12,
   "metadata": {},
   "outputs": [],
   "source": [
    "df_train=df_train.drop('Ash', axis=1)"
   ]
  },
  {
   "cell_type": "markdown",
   "metadata": {},
   "source": [
    "A continuación haremos algunas visualizaciones en busca de outliers."
   ]
  },
  {
   "cell_type": "code",
   "execution_count": 13,
   "metadata": {},
   "outputs": [
    {
     "data": {
      "text/plain": [
       "<Axes: >"
      ]
     },
     "execution_count": 13,
     "metadata": {},
     "output_type": "execute_result"
    },
    {
     "data": {
      "image/png": "[encoded data removed]",
      "text/plain": [
       "<Figure size 1400x800 with 1 Axes>"
      ]
     },
     "metadata": {},
     "output_type": "display_data"
    }
   ],
   "source": [
    "sns.set(rc={'figure.figsize':(14,8)})\n",
    "sns.boxplot(data=df_train)"
   ]
  },
  {
   "cell_type": "markdown",
   "metadata": {},
   "source": [
    "Como comentábamos la diferencia de escala de las variables Proline y Magnesium hace dificil visualizar las demás. Vamos a intentar mostrarla en gráficos separados."
   ]
  },
  {
   "cell_type": "code",
   "execution_count": 14,
   "metadata": {},
   "outputs": [
    {
     "data": {
      "text/plain": [
       "<Axes: >"
      ]
     },
     "execution_count": 14,
     "metadata": {},
     "output_type": "execute_result"
    },
    {
     "data": {
      "image/png": "[encoded data removed]",
      "text/plain": [
       "<Figure size 1400x800 with 1 Axes>"
      ]
     },
     "metadata": {},
     "output_type": "display_data"
    }
   ],
   "source": [
    "sns.boxplot(df_train.drop(['Proline', 'Magnesium'], axis=1))"
   ]
  },
  {
   "cell_type": "markdown",
   "metadata": {},
   "source": [
    "Los datos se ven mejor pero podríamos tener una visión más clara separando también las columnas 'Alcohol' 'Alc. of Ash' i 'Col. intensity'"
   ]
  },
  {
   "cell_type": "code",
   "execution_count": 15,
   "metadata": {},
   "outputs": [
    {
     "data": {
      "text/plain": [
       "<Axes: >"
      ]
     },
     "execution_count": 15,
     "metadata": {},
     "output_type": "execute_result"
    },
    {
     "data": {
      "image/png": "[encoded data removed]",
      "text/plain": [
       "<Figure size 1400x800 with 1 Axes>"
      ]
     },
     "metadata": {},
     "output_type": "display_data"
    }
   ],
   "source": [
    "sns.boxplot(df_train.drop(['Alcohol', 'Alc. of ash', 'Col. intensity', 'Magnesium', 'Proline'], axis=1))"
   ]
  },
  {
   "cell_type": "markdown",
   "metadata": {},
   "source": [
    "Ahora tenemos una visión mucho más clara de los datos. Podemos ver que las variables 'Malic a.', 'Proanthocyanins' y 'Hue' tienen outliers. Mientras que 'Total phenols', 'Flavanoids', 'Nonfl. phenols' y 'OD' no.\n",
    "\n",
    "Vemos las demás variables."
   ]
  },
  {
   "cell_type": "code",
   "execution_count": 16,
   "metadata": {},
   "outputs": [
    {
     "data": {
      "text/plain": [
       "<Axes: title={'center': 'Proline'}>"
      ]
     },
     "execution_count": 16,
     "metadata": {},
     "output_type": "execute_result"
    },
    {
     "data": {
      "image/png": "[encoded data removed]",
      "text/plain": [
       "<Figure size 1000x600 with 2 Axes>"
      ]
     },
     "metadata": {},
     "output_type": "display_data"
    }
   ],
   "source": [
    "fig = plt.figure(figsize=(10,6))\n",
    "ax=fig.add_subplot(1,2, 1)\n",
    "ax.set_title('Magnesium')\n",
    "sns.boxplot(df_train['Magnesium'])\n",
    "ax2=fig.add_subplot(1,2, 2)\n",
    "ax2.set_title('Proline')\n",
    "sns.boxplot(df_train['Proline'])\n"
   ]
  },
  {
   "cell_type": "markdown",
   "metadata": {},
   "source": [
    "Tanto la viable 'Magnesium' como 'Proline' tienen outliers, teniéndolos 'Magnesium' en mayor cantidad. \n",
    "\n",
    "Sigamos con las últimas variables por visualizar."
   ]
  },
  {
   "cell_type": "code",
   "execution_count": 17,
   "metadata": {},
   "outputs": [
    {
     "data": {
      "text/plain": [
       "<Axes: title={'center': 'Col. intensity'}>"
      ]
     },
     "execution_count": 17,
     "metadata": {},
     "output_type": "execute_result"
    },
    {
     "data": {
      "image/png": "[encoded data removed]",
      "text/plain": [
       "<Figure size 1100x600 with 3 Axes>"
      ]
     },
     "metadata": {},
     "output_type": "display_data"
    }
   ],
   "source": [
    "fig = plt.figure(figsize=(11,6))\n",
    "ax=fig.add_subplot(1,3, 1)\n",
    "ax.set_title('Alcohol')\n",
    "sns.boxplot(df_train['Alcohol'])\n",
    "ax2=fig.add_subplot(1,3, 2)\n",
    "ax2.set_title('Alc. of ash')\n",
    "sns.boxplot(df_train['Alc. of ash'])\n",
    "ax3=fig.add_subplot(1,3, 3)\n",
    "ax3.set_title('Col. intensity')\n",
    "sns.boxplot(df_train['Col. intensity'])"
   ]
  },
  {
   "cell_type": "markdown",
   "metadata": {},
   "source": [
    "Podemos observar como la variable 'Alcohol' no tiene outliers mientras 'Alc. of ash' y 'Col. intensity' tienen algunos."
   ]
  },
  {
   "cell_type": "markdown",
   "metadata": {},
   "source": [
    "### - Exercici 1\n",
    "Crea almenys dos models de classificació diferents per intentar predir el millor les classes de l'arxiu adjunt."
   ]
  },
  {
   "cell_type": "markdown",
   "metadata": {},
   "source": [
    "Los algoritmos de clasificación que he elegido son Suport Vector Machine y Decission Tree Classifier. Empezaremos por Suport Vector Machine.\n",
    "\n",
    "Se utilizará un kernel linear y el resto de parámetros por defecto."
   ]
  },
  {
   "cell_type": "code",
   "execution_count": 18,
   "metadata": {},
   "outputs": [],
   "source": [
    "clf_svm = svm.SVC(kernel='linear')\n",
    "clf_svm.fit(X_train, y_train)\n",
    "y_pred_svm = clf_svm.predict(X_test)"
   ]
  },
  {
   "cell_type": "markdown",
   "metadata": {},
   "source": [
    "A continuación entrenaremos el Decission Tree Classifier, con todos los parámetros por defecto, así podremos usarlo de referencia cuando busquemos los mejores parámetros más adelante."
   ]
  },
  {
   "cell_type": "code",
   "execution_count": 19,
   "metadata": {},
   "outputs": [],
   "source": [
    "clf_tree = DecisionTreeClassifier().fit(X_train,y_train)\n",
    "y_pred_tree=clf_tree.predict(X_test)"
   ]
  },
  {
   "cell_type": "markdown",
   "metadata": {},
   "source": [
    "### - Exercici 2\n",
    "Compara els models de classificació utilitzant la precisió (accuracy), una matriu de confusió i d’altres mètriques més avançades."
   ]
  },
  {
   "cell_type": "markdown",
   "metadata": {},
   "source": []
  }
 ],
 "metadata": {
  "kernelspec": {
   "display_name": "con-01",
   "language": "python",
   "name": "python3"
  },
  "language_info": {
   "codemirror_mode": {
    "name": "ipython",
    "version": 3
   },
   "file_extension": ".py",
   "mimetype": "text/x-python",
   "name": "python",
   "nbconvert_exporter": "python",
   "pygments_lexer": "ipython3",
   "version": "3.11.3"
  }
 },
 "nbformat": 4,
 "nbformat_minor": 2
}
